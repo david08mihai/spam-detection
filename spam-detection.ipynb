{
 "cells": [
  {
   "cell_type": "markdown",
   "id": "514e60df",
   "metadata": {},
   "source": [
    "# SMS Spam Detection with Machine Learning\n",
    "\n",
    "### Introduction\n",
    "\n",
    "We are increasingly surrounded by smartphones, which have become an essential part of our daily lives. Given the fast-paced nature of modern communication, it is crucial not to be disturbed by irrelevant or spam messages. Such interruptions can cause frustration, anxiety, or even make us miss truly important information.\n",
    "\n",
    "This project not only provides valuable insights into the field of Machine Learning, but also addresses a real-world problem: distinguishing the patterns of spam messages and filtering them out. By doing so, it aims to reduce unnecessary distractions and ensure that users can focus on the information that truly matters.\n",
    "\n",
    "## Workflow \n",
    "1. Dataset Overview\n",
    "    - Before starting to train a model, it is necessary to have an overview of the data distribution, the way the data are stored, and how they can be used\n",
    "2. Data Preprocessing\n",
    "    - Since this project deals with text data, it is crucial to preprocess and filter the words so that the models can understand them (Convert text into numerical features)\n",
    "3. Modeling\n",
    "    - Train baseline models (e.g., Naive Bayes, Logistic Regression)\n",
    "    - Train more advanced models (e.g. XGBoost)\n",
    "4. Model Evaluation\n",
    "    - Compare models using accuracy, precision, recall, F1-score\n",
    "    - Show confusion matrices\n",
    "5. Conclusions"
   ]
  },
  {
   "cell_type": "markdown",
   "id": "c7599ed7",
   "metadata": {},
   "source": [
    "# Exploratory Data Analisys\n",
    "\n",
    "First of all, the data is going to be kept into a DataFrame which allows to understand which one is the feature and which one is the label. Since the problem is handling binary classficiation and is about spam/ham detection, it is to be expected that the data would have at least the message and the label for each one"
   ]
  },
  {
   "cell_type": "code",
   "execution_count": 1,
   "id": "5d218612",
   "metadata": {},
   "outputs": [
    {
     "data": {
      "text/html": [
       "<div>\n",
       "<style scoped>\n",
       "    .dataframe tbody tr th:only-of-type {\n",
       "        vertical-align: middle;\n",
       "    }\n",
       "\n",
       "    .dataframe tbody tr th {\n",
       "        vertical-align: top;\n",
       "    }\n",
       "\n",
       "    .dataframe thead th {\n",
       "        text-align: right;\n",
       "    }\n",
       "</style>\n",
       "<table border=\"1\" class=\"dataframe\">\n",
       "  <thead>\n",
       "    <tr style=\"text-align: right;\">\n",
       "      <th></th>\n",
       "      <th>v1</th>\n",
       "      <th>v2</th>\n",
       "      <th>Unnamed: 2</th>\n",
       "      <th>Unnamed: 3</th>\n",
       "      <th>Unnamed: 4</th>\n",
       "    </tr>\n",
       "  </thead>\n",
       "  <tbody>\n",
       "    <tr>\n",
       "      <th>0</th>\n",
       "      <td>ham</td>\n",
       "      <td>Go until jurong point, crazy.. Available only ...</td>\n",
       "      <td>NaN</td>\n",
       "      <td>NaN</td>\n",
       "      <td>NaN</td>\n",
       "    </tr>\n",
       "    <tr>\n",
       "      <th>1</th>\n",
       "      <td>ham</td>\n",
       "      <td>Ok lar... Joking wif u oni...</td>\n",
       "      <td>NaN</td>\n",
       "      <td>NaN</td>\n",
       "      <td>NaN</td>\n",
       "    </tr>\n",
       "    <tr>\n",
       "      <th>2</th>\n",
       "      <td>spam</td>\n",
       "      <td>Free entry in 2 a wkly comp to win FA Cup fina...</td>\n",
       "      <td>NaN</td>\n",
       "      <td>NaN</td>\n",
       "      <td>NaN</td>\n",
       "    </tr>\n",
       "    <tr>\n",
       "      <th>3</th>\n",
       "      <td>ham</td>\n",
       "      <td>U dun say so early hor... U c already then say...</td>\n",
       "      <td>NaN</td>\n",
       "      <td>NaN</td>\n",
       "      <td>NaN</td>\n",
       "    </tr>\n",
       "    <tr>\n",
       "      <th>4</th>\n",
       "      <td>ham</td>\n",
       "      <td>Nah I don't think he goes to usf, he lives aro...</td>\n",
       "      <td>NaN</td>\n",
       "      <td>NaN</td>\n",
       "      <td>NaN</td>\n",
       "    </tr>\n",
       "  </tbody>\n",
       "</table>\n",
       "</div>"
      ],
      "text/plain": [
       "     v1                                                 v2 Unnamed: 2  \\\n",
       "0   ham  Go until jurong point, crazy.. Available only ...        NaN   \n",
       "1   ham                      Ok lar... Joking wif u oni...        NaN   \n",
       "2  spam  Free entry in 2 a wkly comp to win FA Cup fina...        NaN   \n",
       "3   ham  U dun say so early hor... U c already then say...        NaN   \n",
       "4   ham  Nah I don't think he goes to usf, he lives aro...        NaN   \n",
       "\n",
       "  Unnamed: 3 Unnamed: 4  \n",
       "0        NaN        NaN  \n",
       "1        NaN        NaN  \n",
       "2        NaN        NaN  \n",
       "3        NaN        NaN  \n",
       "4        NaN        NaN  "
      ]
     },
     "execution_count": 1,
     "metadata": {},
     "output_type": "execute_result"
    }
   ],
   "source": [
    "# import dataset\n",
    "\n",
    "import pandas as pd\n",
    "\n",
    "df = pd.read_csv(\"spam.csv\", encoding='latin1')\n",
    "\n",
    "# showing first 5 rows of the dataset\n",
    "df.head()"
   ]
  },
  {
   "cell_type": "markdown",
   "id": "5423e1c1",
   "metadata": {},
   "source": [
    "As expected, the first column, named `v1`, contains the labels (ground truth), and the second column appears to be the SMS text. What is particularly interesting are the last three columns, which for the first five rows are empty. The next step is to explore these columns and determine if they can be useful.\n"
   ]
  },
  {
   "cell_type": "code",
   "execution_count": 2,
   "id": "a0e2db0b",
   "metadata": {},
   "outputs": [
    {
     "name": "stdout",
     "output_type": "stream",
     "text": [
      "v1               0\n",
      "v2               0\n",
      "Unnamed: 2    5522\n",
      "Unnamed: 3    5560\n",
      "Unnamed: 4    5566\n",
      "dtype: int64\n",
      "        v1                                                 v2  \\\n",
      "95    spam  Your free ringtone is waiting to be collected....   \n",
      "281    ham                                \\Wen u miss someone   \n",
      "899   spam  Your free ringtone is waiting to be collected....   \n",
      "1038   ham  Edison has rightly said, \\A fool can ask more ...   \n",
      "2170   ham  \\CAN I PLEASE COME UP NOW IMIN TOWN.DONTMATTER...   \n",
      "2255   ham      I just lov this line: \\Hurt me with the truth   \n",
      "3145   ham               \\SHIT BABE.. THASA BIT MESSED UP.YEH   \n",
      "3506   ham               Two fundamentals of cool life: \\Walk   \n",
      "3525   ham  \\HEY BABE! FAR 2 SPUN-OUT 2 SPK AT DA MO... DE...   \n",
      "4668   ham  When I was born, GOD said, \\Oh No! Another IDI...   \n",
      "5048   ham  Edison has rightly said, \\A fool can ask more ...   \n",
      "5081   ham  \\HI BABE UAWAKE?FEELLIKW SHIT.JUSTFOUND OUT VI...   \n",
      "\n",
      "                                             Unnamed: 2  \\\n",
      "95                                          PO Box 5249   \n",
      "281    the person is definitely special for u..... B...   \n",
      "899                                         PO Box 5249   \n",
      "1038                                                 GN   \n",
      "2170  JUST REALLYNEED 2DOCD.PLEASE DONTPLEASE DONTIG...   \n",
      "2255                                       I don't mind   \n",
      "3145            SHE SHUDVETOLD U. DID URGRAN KNOW?NEWAY   \n",
      "3506   like you are the KING\\\"...! OR \\\"Walk like yo...   \n",
      "3525                                   HAD A COOL NYTHO   \n",
      "4668                                           GOD said   \n",
      "5048                                                 GN   \n",
      "5081                                DEVIOUSBITCH.ANYWAY   \n",
      "\n",
      "                                      Unnamed: 3  \\\n",
      "95                          MK17 92H. 450Ppw 16\"   \n",
      "281                             why to miss them   \n",
      "899                         MK17 92H. 450Ppw 16\"   \n",
      "1038                                          GE   \n",
      "2170    U NO THECD ISV.IMPORTANT TOME 4 2MORO\\\"\"   \n",
      "2255    i wil tolerat.bcs ur my someone..... But   \n",
      "3145   ILLSPEAK 2 U2MORO WEN IM NOT ASLEEP...\\\"\"   \n",
      "3506          whoever is the KING\\\"!... Gud nyt\"   \n",
      "3525                              TX 4 FONIN HON   \n",
      "4668            \\\"OH No! COMPETITION\\\". Who knew   \n",
      "5048                                          GE   \n",
      "5081                              IåÕL CALL U\\\"\"   \n",
      "\n",
      "                                             Unnamed: 4  \n",
      "95                                                  NaN  \n",
      "281                       just Keep-in-touch\\\" gdeve..\"  \n",
      "899                                                 NaN  \n",
      "1038                                            GNT:-)\"  \n",
      "2170                                                NaN  \n",
      "2255   Never comfort me with a lie\\\" gud ni8 and swe...  \n",
      "3145                                                NaN  \n",
      "3506                                                NaN  \n",
      "3525                CALL 2MWEN IM BK FRMCLOUD 9! J X\\\"\"  \n",
      "4668    one day these two will become FREINDS FOREVER!\"  \n",
      "5048                                            GNT:-)\"  \n",
      "5081                                                NaN  \n"
     ]
    }
   ],
   "source": [
    "# how many values are missing\n",
    "print(df.isnull().sum())\n",
    "\n",
    "# the total rows of the dataset\n",
    "df.shape[0]\n",
    "\n",
    "print(df[df['Unnamed: 3'].notnull()])"
   ]
  },
  {
   "cell_type": "markdown",
   "id": "90f8a61c",
   "metadata": {},
   "source": [
    "The dataset originally contains extra columns (`Unnamed: 2`, `Unnamed: 3`, `Unnamed: 4`) that are mostly empty or contain irrelevant information.  \n",
    "For our spam detection task, we only need the label (`v1`) and the SMS text (`v2`).  \n",
    "Therefore, we drop the unnecessary columns to simplify the dataset and avoid confusion."
   ]
  },
  {
   "cell_type": "code",
   "execution_count": 3,
   "id": "7a859d6d",
   "metadata": {},
   "outputs": [
    {
     "name": "stdout",
     "output_type": "stream",
     "text": [
      "  label                                               text\n",
      "0   ham  Go until jurong point, crazy.. Available only ...\n",
      "1   ham                      Ok lar... Joking wif u oni...\n",
      "2  spam  Free entry in 2 a wkly comp to win FA Cup fina...\n",
      "3   ham  U dun say so early hor... U c already then say...\n",
      "4   ham  Nah I don't think he goes to usf, he lives aro...\n",
      "   label                                               text\n",
      "0      0  Go until jurong point, crazy.. Available only ...\n",
      "1      0                      Ok lar... Joking wif u oni...\n",
      "2      1  Free entry in 2 a wkly comp to win FA Cup fina...\n",
      "3      0  U dun say so early hor... U c already then say...\n",
      "4      0  Nah I don't think he goes to usf, he lives aro...\n"
     ]
    }
   ],
   "source": [
    "df = df[['v1', 'v2']]\n",
    "\n",
    "# rename the column name as the expected form\n",
    "df.columns = ['label', 'text']\n",
    "\n",
    "print(df.head())\n",
    "\n",
    "df.label = df.label.map({'ham' : 0, 'spam' : 1})\n",
    "print(df.head())\n"
   ]
  },
  {
   "cell_type": "markdown",
   "id": "58cb7fb8",
   "metadata": {},
   "source": [
    "# Cleaning Text"
   ]
  },
  {
   "cell_type": "code",
   "execution_count": 4,
   "id": "fca38de0",
   "metadata": {},
   "outputs": [
    {
     "name": "stdout",
     "output_type": "stream",
     "text": [
      "   label                                               text\n",
      "0      0  go jurong point crazy available bugis n great ...\n",
      "1      0                            ok lar joking wif u oni\n",
      "2      1  free entry wkly comp win fa cup final tkts st ...\n",
      "3      0                u dun say early hor u c already say\n",
      "4      0        nah dont think goes usf lives around though\n"
     ]
    },
    {
     "name": "stderr",
     "output_type": "stream",
     "text": [
      "[nltk_data] Downloading package stopwords to /home/david/nltk_data...\n",
      "[nltk_data]   Package stopwords is already up-to-date!\n"
     ]
    }
   ],
   "source": [
    "from nltk.corpus import stopwords\n",
    "import nltk\n",
    "nltk.download('stopwords')\n",
    "stop_words = set(stopwords.words('english'))\n",
    "import re\n",
    "\n",
    "def clean_text(text):\n",
    "    text = text.lower()\n",
    "    text = re.sub(r'[^a-z\\s]', '', text)\n",
    "    text = ' '.join([word for word in text.split() if word not in stop_words])\n",
    "    return text\n",
    "\n",
    "df['text'] = df['text'].apply(clean_text)\n",
    "print(df.head())\n",
    "        "
   ]
  },
  {
   "cell_type": "code",
   "execution_count": 5,
   "id": "76fbdccf",
   "metadata": {},
   "outputs": [],
   "source": [
    "# train test split\n",
    "from sklearn.model_selection import train_test_split\n",
    "\n",
    "X_train, X_test, y_train, y_test = train_test_split(df['text'], df['label'], test_size = 0.2, random_state= 42)"
   ]
  },
  {
   "cell_type": "markdown",
   "id": "11529658",
   "metadata": {},
   "source": [
    "It is really important to see the distribution of the labels.\n",
    "- How many of the rows are labeled as 0 `ham`, and how many as 1 `spam`"
   ]
  },
  {
   "cell_type": "code",
   "execution_count": 6,
   "id": "7f59b8c1",
   "metadata": {},
   "outputs": [
    {
     "data": {
      "image/png": "[encoded data removed]",
      "text/plain": [
       "<Figure size 640x480 with 1 Axes>"
      ]
     },
     "metadata": {},
     "output_type": "display_data"
    }
   ],
   "source": [
    "import matplotlib.pyplot as plt\n",
    "\n",
    "x_val = ['Ham', 'Spam']\n",
    "y_val = df.label.value_counts().values\n",
    "plt.bar(x_val, y_val)\n",
    "plt.xlabel(\"Message Type\")\n",
    "plt.ylabel(\"Number\")\n",
    "plt.title(\"Distribution of Ham and Spam\")\n",
    "plt.show()\n"
   ]
  },
  {
   "cell_type": "markdown",
   "id": "5544a22f",
   "metadata": {},
   "source": [
    "It is obvious that the class distribution is imbalanced, which can negatively affect the models and cause them to overfit the majority class. So to speak\n",
    "As mentioned before, a model cannot work with the words in the first place, so every word has to be transformed into a number."
   ]
  },
  {
   "cell_type": "code",
   "execution_count": 7,
   "id": "111a8f08",
   "metadata": {},
   "outputs": [
    {
     "name": "stdout",
     "output_type": "stream",
     "text": [
      "Best parameters NB: {'model': MultinomialNB(), 'model__alpha': 0.5}\n",
      "Best parameters XGB: {'model': XGBClassifier(base_score=None, booster=None, callbacks=None,\n",
      "              colsample_bylevel=None, colsample_bynode=None,\n",
      "              colsample_bytree=None, device=None, early_stopping_rounds=None,\n",
      "              enable_categorical=False, eval_metric=None, feature_types=None,\n",
      "              feature_weights=None, gamma=None, grow_policy=None,\n",
      "              importance_type=None, interaction_constraints=None,\n",
      "              learning_rate=None, max_bin=None, max_cat_threshold=None,\n",
      "              max_cat_to_onehot=None, max_delta_step=None, max_depth=None,\n",
      "              max_leaves=None, min_child_weight=None, missing=nan,\n",
      "              monotone_constraints=None, multi_strategy=None, n_estimators=None,\n",
      "              n_jobs=None, num_parallel_tree=None, ...), 'model__learning_rate': 0.5, 'model__max_depth': 2, 'model__n_estimators': 200}\n"
     ]
    }
   ],
   "source": [
    "from sklearn.feature_extraction.text import TfidfVectorizer\n",
    "from imblearn.pipeline import Pipeline\n",
    "from sklearn.model_selection import GridSearchCV\n",
    "from sklearn.naive_bayes import MultinomialNB\n",
    "from imblearn.over_sampling import SMOTE\n",
    "from xgboost import XGBClassifier\n",
    "pipeline = Pipeline([\n",
    "    ('tfidf', TfidfVectorizer()),\n",
    "    ('smote', SMOTE(random_state=42)),\n",
    "    ('model', MultinomialNB())\n",
    "])\n",
    "\n",
    "\n",
    "param_grid_nb = [\n",
    "    {\n",
    "        'model' : [MultinomialNB()],\n",
    "        'model__alpha': [0.5, 1.0]\n",
    "    }]\n",
    "\n",
    "param_grid_xgb = [\n",
    "    {\n",
    "        'model' : [XGBClassifier()],\n",
    "        'model__n_estimators' : [100, 200],\n",
    "        'model__max_depth' : [2, 4],\n",
    "        'model__learning_rate' : [0.1, 0.5]\n",
    "    }]\n",
    "\n",
    "grid_nb = GridSearchCV(pipeline, param_grid_nb, cv = 3, scoring = 'f1')\n",
    "grid_xgb = GridSearchCV(pipeline, param_grid_xgb, cv = 3, scoring = 'f1')\n",
    "\n",
    "grid_nb.fit(X_train, y_train)\n",
    "grid_xgb.fit(X_train, y_train)\n",
    "\n",
    "\n",
    "print(\"Best parameters NB:\", grid_nb.best_params_)\n",
    "print(\"Best parameters XGB:\", grid_xgb.best_params_)"
   ]
  },
  {
   "cell_type": "code",
   "execution_count": 8,
   "id": "355ec5af",
   "metadata": {},
   "outputs": [],
   "source": [
    "model_nb = grid_nb.best_estimator_\n",
    "model_xgb = grid_xgb.best_estimator_\n",
    "\n",
    "y_pred_nb = model_nb.predict(X_test)\n",
    "y_pred_xgb = model_xgb.predict(X_test)\n"
   ]
  },
  {
   "cell_type": "code",
   "execution_count": 9,
   "id": "438d6a12",
   "metadata": {},
   "outputs": [
    {
     "data": {
      "text/plain": [
       "<sklearn.metrics._plot.confusion_matrix.ConfusionMatrixDisplay at 0x792f5efdb440>"
      ]
     },
     "execution_count": 9,
     "metadata": {},
     "output_type": "execute_result"
    },
    {
     "data": {
      "image/png": "[encoded data removed]",
      "text/plain": [
       "<Figure size 640x480 with 2 Axes>"
      ]
     },
     "metadata": {},
     "output_type": "display_data"
    }
   ],
   "source": [
    "from sklearn.metrics import confusion_matrix, ConfusionMatrixDisplay\n",
    "\n",
    "cm1 = confusion_matrix(y_test, y_pred_nb, labels = model_nb.classes_)\n",
    "matrix1 = ConfusionMatrixDisplay(confusion_matrix=cm1, display_labels=['Ham','Spam'])\n",
    "matrix1.plot()"
   ]
  },
  {
   "cell_type": "code",
   "execution_count": 10,
   "id": "617092a3",
   "metadata": {},
   "outputs": [
    {
     "data": {
      "text/plain": [
       "<sklearn.metrics._plot.confusion_matrix.ConfusionMatrixDisplay at 0x792f68787560>"
      ]
     },
     "execution_count": 10,
     "metadata": {},
     "output_type": "execute_result"
    },
    {
     "data": {
      "image/png": "[encoded data removed]",
      "text/plain": [
       "<Figure size 640x480 with 2 Axes>"
      ]
     },
     "metadata": {},
     "output_type": "display_data"
    }
   ],
   "source": [
    "cm2 = confusion_matrix(y_test, y_pred_xgb, labels = model_xgb.classes_)\n",
    "matrix2 = ConfusionMatrixDisplay(confusion_matrix= cm2, display_labels = ['Ham', 'Spam'])\n",
    "matrix2.plot()"
   ]
  },
  {
   "cell_type": "code",
   "execution_count": 11,
   "id": "920cedfd",
   "metadata": {},
   "outputs": [
    {
     "name": "stdout",
     "output_type": "stream",
     "text": [
      "             accuracy  precision  recall_score  f1_score\n",
      "XGBoost      0.973094   0.941176      0.853333  0.895105\n",
      "Naive Bayes  0.960538   0.815476      0.913333  0.861635\n"
     ]
    }
   ],
   "source": [
    "from sklearn.metrics import accuracy_score, precision_score, recall_score, f1_score\n",
    "\n",
    "def evaluate_model(y_test, y_pred):\n",
    "    result = {\n",
    "        'accuracy' : accuracy_score(y_test, y_pred),\n",
    "        'precision' : precision_score(y_test, y_pred),\n",
    "        'recall_score' : recall_score(y_test, y_pred),\n",
    "        'f1_score' : f1_score(y_test, y_pred)\n",
    "    }\n",
    "    return result\n",
    "metrics_nb = evaluate_model(y_test, y_pred_nb)\n",
    "metrics_xgb = evaluate_model(y_test, y_pred_xgb)\n",
    "\n",
    "df_metrics = pd.DataFrame([metrics_nb, metrics_xgb], index=['Naive Bayes', 'XGBoost'])\n",
    "df_sorted = df_metrics.sort_values(by = 'precision', ascending = False)\n",
    "print(df_sorted)\n"
   ]
  },
  {
   "cell_type": "markdown",
   "id": "634e7a27",
   "metadata": {},
   "source": [
    "# Saving model for UI app\n",
    "\n",
    "Now that there are already compared models, I am going to take the XGBoost model as it is the most performant one and save it as it is going to be reused in the graphical interface application which can detect whether a sms is spam or not.\n"
   ]
  },
  {
   "cell_type": "code",
   "execution_count": 12,
   "id": "57eab26b",
   "metadata": {},
   "outputs": [
    {
     "data": {
      "text/plain": [
       "['model_trained.joblib']"
      ]
     },
     "execution_count": 12,
     "metadata": {},
     "output_type": "execute_result"
    }
   ],
   "source": [
    "from joblib import dump\n",
    "dump(model_xgb, \"model_trained.joblib\")"
   ]
  }
 ],
 "metadata": {
  "kernelspec": {
   "display_name": "venv",
   "language": "python",
   "name": "python3"
  },
  "language_info": {
   "codemirror_mode": {
    "name": "ipython",
    "version": 3
   },
   "file_extension": ".py",
   "mimetype": "text/x-python",
   "name": "python",
   "nbconvert_exporter": "python",
   "pygments_lexer": "ipython3",
   "version": "3.12.3"
  }
 },
 "nbformat": 4,
 "nbformat_minor": 5
}
